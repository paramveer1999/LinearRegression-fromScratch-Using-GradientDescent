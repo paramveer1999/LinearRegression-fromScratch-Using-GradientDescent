{
 "cells": [
  {
   "cell_type": "code",
   "execution_count": 1,
   "metadata": {},
   "outputs": [
    {
     "data": {
      "text/html": [
       "<div>\n",
       "<style scoped>\n",
       "    .dataframe tbody tr th:only-of-type {\n",
       "        vertical-align: middle;\n",
       "    }\n",
       "\n",
       "    .dataframe tbody tr th {\n",
       "        vertical-align: top;\n",
       "    }\n",
       "\n",
       "    .dataframe thead th {\n",
       "        text-align: right;\n",
       "    }\n",
       "</style>\n",
       "<table border=\"1\" class=\"dataframe\">\n",
       "  <thead>\n",
       "    <tr style=\"text-align: right;\">\n",
       "      <th></th>\n",
       "      <th>fixed acidity</th>\n",
       "      <th>volatile acidity</th>\n",
       "      <th>citric acid</th>\n",
       "      <th>residual sugar</th>\n",
       "      <th>chlorides</th>\n",
       "      <th>free sulfur dioxide</th>\n",
       "      <th>total sulfur dioxide</th>\n",
       "      <th>density</th>\n",
       "      <th>pH</th>\n",
       "      <th>sulphates</th>\n",
       "      <th>alcohol</th>\n",
       "      <th>quality</th>\n",
       "    </tr>\n",
       "  </thead>\n",
       "  <tbody>\n",
       "    <tr>\n",
       "      <td>0</td>\n",
       "      <td>7.4</td>\n",
       "      <td>0.70</td>\n",
       "      <td>0.00</td>\n",
       "      <td>1.9</td>\n",
       "      <td>0.076</td>\n",
       "      <td>11.0</td>\n",
       "      <td>34.0</td>\n",
       "      <td>0.9978</td>\n",
       "      <td>3.51</td>\n",
       "      <td>0.56</td>\n",
       "      <td>9.4</td>\n",
       "      <td>5</td>\n",
       "    </tr>\n",
       "    <tr>\n",
       "      <td>1</td>\n",
       "      <td>7.8</td>\n",
       "      <td>0.88</td>\n",
       "      <td>0.00</td>\n",
       "      <td>2.6</td>\n",
       "      <td>0.098</td>\n",
       "      <td>25.0</td>\n",
       "      <td>67.0</td>\n",
       "      <td>0.9968</td>\n",
       "      <td>3.20</td>\n",
       "      <td>0.68</td>\n",
       "      <td>9.8</td>\n",
       "      <td>5</td>\n",
       "    </tr>\n",
       "    <tr>\n",
       "      <td>2</td>\n",
       "      <td>7.8</td>\n",
       "      <td>0.76</td>\n",
       "      <td>0.04</td>\n",
       "      <td>2.3</td>\n",
       "      <td>0.092</td>\n",
       "      <td>15.0</td>\n",
       "      <td>54.0</td>\n",
       "      <td>0.9970</td>\n",
       "      <td>3.26</td>\n",
       "      <td>0.65</td>\n",
       "      <td>9.8</td>\n",
       "      <td>5</td>\n",
       "    </tr>\n",
       "    <tr>\n",
       "      <td>3</td>\n",
       "      <td>11.2</td>\n",
       "      <td>0.28</td>\n",
       "      <td>0.56</td>\n",
       "      <td>1.9</td>\n",
       "      <td>0.075</td>\n",
       "      <td>17.0</td>\n",
       "      <td>60.0</td>\n",
       "      <td>0.9980</td>\n",
       "      <td>3.16</td>\n",
       "      <td>0.58</td>\n",
       "      <td>9.8</td>\n",
       "      <td>6</td>\n",
       "    </tr>\n",
       "    <tr>\n",
       "      <td>4</td>\n",
       "      <td>7.4</td>\n",
       "      <td>0.70</td>\n",
       "      <td>0.00</td>\n",
       "      <td>1.9</td>\n",
       "      <td>0.076</td>\n",
       "      <td>11.0</td>\n",
       "      <td>34.0</td>\n",
       "      <td>0.9978</td>\n",
       "      <td>3.51</td>\n",
       "      <td>0.56</td>\n",
       "      <td>9.4</td>\n",
       "      <td>5</td>\n",
       "    </tr>\n",
       "  </tbody>\n",
       "</table>\n",
       "</div>"
      ],
      "text/plain": [
       "   fixed acidity  volatile acidity  citric acid  residual sugar  chlorides  \\\n",
       "0            7.4              0.70         0.00             1.9      0.076   \n",
       "1            7.8              0.88         0.00             2.6      0.098   \n",
       "2            7.8              0.76         0.04             2.3      0.092   \n",
       "3           11.2              0.28         0.56             1.9      0.075   \n",
       "4            7.4              0.70         0.00             1.9      0.076   \n",
       "\n",
       "   free sulfur dioxide  total sulfur dioxide  density    pH  sulphates  \\\n",
       "0                 11.0                  34.0   0.9978  3.51       0.56   \n",
       "1                 25.0                  67.0   0.9968  3.20       0.68   \n",
       "2                 15.0                  54.0   0.9970  3.26       0.65   \n",
       "3                 17.0                  60.0   0.9980  3.16       0.58   \n",
       "4                 11.0                  34.0   0.9978  3.51       0.56   \n",
       "\n",
       "   alcohol  quality  \n",
       "0      9.4        5  \n",
       "1      9.8        5  \n",
       "2      9.8        5  \n",
       "3      9.8        6  \n",
       "4      9.4        5  "
      ]
     },
     "execution_count": 1,
     "metadata": {},
     "output_type": "execute_result"
    }
   ],
   "source": [
    "#Importing the libraries and accomodating the data into a pandas dataframe\n",
    "import numpy as np\n",
    "import pandas as pd\n",
    "import matplotlib.pyplot as plt\n",
    "df = pd.read_csv('winequality-red.csv')\n",
    "df.head()"
   ]
  },
  {
   "cell_type": "markdown",
   "metadata": {},
   "source": [
    "### The equations we will be using is: \n",
    "### 1.\n",
    "\n",
    "### \\begin{align} \n",
    "h_{\\theta}(X) & = \\theta_{0} + \\theta_{1}.x_{1} + \\theta_{2}.x_{2} + \\theta_{3}.x_{3} + \\theta_{4}.x_{4} + \\theta_{5}.x_{5} + \\theta_{6}.x_{6} + \\theta_{7}.x_{7} + \\theta_{8}.x_{8} + \\theta_{9}.x_{9} + \\theta_{10}.x_{10} + \\theta_{11}.x_{11}\n",
    "\\end{align}\n",
    "\n",
    "#### where y hat is the predicted value, $θ_{0}$ is the intercept, $θ_{1}$, $θ_{2}$, $θ_{3}$, $θ_{4}$, $θ_{5}$, $θ_{6}$, $θ_{7}$, $θ_{8}$, $θ_{9}$, $θ_{10}$ and $θ_{11}$ are the coefficients and $X_{1}$, $X_{2}$, $X_{3}$, $X_{4}$, $X_{5}$, $X_{6}$, $X_{7}$, $X_{8}$, $X_{9}$, $X_{10}$ and $X_{11}$ are the independent variables. $X_{0}$ will be a column of 1s in the matrix X. \n",
    "\n",
    "### 2.\n",
    "### \\begin{align} \n",
    "\\theta_{j} = \\theta_{j} - \\alpha\\frac{1}{m}\\sum \\limits _{i=1} ^{m}(h_{\\theta}(x^{i}) - y^{i}).(x_{j}^{i})\n",
    "\\end{align}\n",
    "\n",
    "#### where x are the features(Independent variables), y is the target value(dependent variable) and m is the length of training sample\n"
   ]
  },
  {
   "cell_type": "code",
   "execution_count": 2,
   "metadata": {},
   "outputs": [
    {
     "data": {
      "text/plain": [
       "(1599, 12)"
      ]
     },
     "execution_count": 2,
     "metadata": {},
     "output_type": "execute_result"
    }
   ],
   "source": [
    "#Checking the shape\n",
    "df.shape"
   ]
  },
  {
   "cell_type": "code",
   "execution_count": 3,
   "metadata": {},
   "outputs": [],
   "source": [
    "#Changing the dataframe to an array for train/test split\n",
    "df_to_array = df.values"
   ]
  },
  {
   "cell_type": "code",
   "execution_count": 4,
   "metadata": {},
   "outputs": [
    {
     "data": {
      "text/plain": [
       "array([[ 7.4  ,  0.7  ,  0.   , ...,  0.56 ,  9.4  ,  5.   ],\n",
       "       [ 7.8  ,  0.88 ,  0.   , ...,  0.68 ,  9.8  ,  5.   ],\n",
       "       [ 7.8  ,  0.76 ,  0.04 , ...,  0.65 ,  9.8  ,  5.   ],\n",
       "       ...,\n",
       "       [ 6.3  ,  0.51 ,  0.13 , ...,  0.75 , 11.   ,  6.   ],\n",
       "       [ 5.9  ,  0.645,  0.12 , ...,  0.71 , 10.2  ,  5.   ],\n",
       "       [ 6.   ,  0.31 ,  0.47 , ...,  0.66 , 11.   ,  6.   ]])"
      ]
     },
     "execution_count": 4,
     "metadata": {},
     "output_type": "execute_result"
    }
   ],
   "source": [
    "#Checking how our array looks\n",
    "df_to_array"
   ]
  },
  {
   "cell_type": "code",
   "execution_count": 5,
   "metadata": {},
   "outputs": [],
   "source": [
    "#Shuffling data to make it random before splitting then splitting into 80% training and 20% testing\n",
    "np.random.shuffle(df_to_array)\n",
    "train, test = df_to_array[:1200,:], df_to_array[1200:,:]"
   ]
  },
  {
   "cell_type": "code",
   "execution_count": 6,
   "metadata": {},
   "outputs": [
    {
     "data": {
      "text/plain": [
       "array([[ 7.9 ,  0.66,  0.  , ...,  0.58,  9.5 ,  5.  ],\n",
       "       [12.9 ,  0.5 ,  0.55, ...,  0.68, 10.9 ,  6.  ],\n",
       "       [ 7.7 ,  0.51,  0.28, ...,  0.74,  9.2 ,  5.  ],\n",
       "       ...,\n",
       "       [ 7.6 ,  0.54,  0.13, ...,  0.61,  9.4 ,  5.  ],\n",
       "       [ 7.3 ,  0.51,  0.18, ...,  0.73,  9.5 ,  6.  ],\n",
       "       [ 4.6 ,  0.52,  0.15, ...,  0.56, 13.1 ,  4.  ]])"
      ]
     },
     "execution_count": 6,
     "metadata": {},
     "output_type": "execute_result"
    }
   ],
   "source": [
    "#Checking our training sample\n",
    "train"
   ]
  },
  {
   "cell_type": "code",
   "execution_count": 7,
   "metadata": {},
   "outputs": [
    {
     "data": {
      "text/plain": [
       "array([[ 8.8       ,  0.24      ,  0.54      , ...,  0.54      ,\n",
       "         9.2       ,  5.        ],\n",
       "       [10.3       ,  0.34      ,  0.52      , ...,  0.64      ,\n",
       "         9.4       ,  5.        ],\n",
       "       [ 7.4       ,  0.5       ,  0.47      , ...,  0.57      ,\n",
       "         9.1       ,  5.        ],\n",
       "       ...,\n",
       "       [13.2       ,  0.38      ,  0.55      , ...,  0.54      ,\n",
       "         9.4       ,  5.        ],\n",
       "       [ 6.9       ,  0.84      ,  0.21      , ...,  0.72      ,\n",
       "         9.23333333,  6.        ],\n",
       "       [ 8.2       ,  0.635     ,  0.1       , ...,  0.75      ,\n",
       "        10.9       ,  6.        ]])"
      ]
     },
     "execution_count": 7,
     "metadata": {},
     "output_type": "execute_result"
    }
   ],
   "source": [
    "#Checking our testing sample\n",
    "test"
   ]
  },
  {
   "cell_type": "code",
   "execution_count": 8,
   "metadata": {},
   "outputs": [],
   "source": [
    "#Diving split data into X and y for machine learning where X will be for independent variables and y for dependent\n",
    "X_train = train[:,:-1]\n",
    "X_test = test[:,:-1]\n",
    "y_train = train[:,-1]\n",
    "y_test = test[:,-1]"
   ]
  },
  {
   "cell_type": "code",
   "execution_count": 9,
   "metadata": {},
   "outputs": [
    {
     "name": "stdout",
     "output_type": "stream",
     "text": [
      "Cost:           0.5255890695579148 \n",
      "Intercept:      0.03031901565804306 \n",
      "Coefficient 1:  0.1891937283474344 \n",
      "Coefficient 2:  0.010026308551905082 \n",
      "Coefficient 3:  0.005872425557930345 \n",
      "Coefficient 4:  0.0370278668051755 \n",
      "Coefficient 5:  0.0019365229359430477 \n",
      "Coefficient 6:  0.01094310895828418 \n",
      "Coefficient 7: -0.003361344755391783 \n",
      "Coefficient 8:  0.03013849948697474 \n",
      "Coefficient 9:  0.10301818060954375 \n",
      "Coefficient 10: 0.023088136006980654 \n",
      "Coefficient 11: 0.33655895823125587\n"
     ]
    }
   ],
   "source": [
    "#Running gradient descent\n",
    "coef1=0\n",
    "coef2=0\n",
    "coef3=0\n",
    "coef4=0\n",
    "coef5=0\n",
    "coef6=0\n",
    "coef7=0\n",
    "coef8=0\n",
    "coef9=0\n",
    "coef10=0\n",
    "coef11=0\n",
    "intercept=0\n",
    "epochs=1000\n",
    "learning_rate=0.0001\n",
    "n = len(y_train)\n",
    "cost_hist = []\n",
    "\n",
    "for i in range(epochs):\n",
    "    #Cost Function\n",
    "    y_current = ((coef1 * X_train[:,0]) + (coef2 * X_train[:,1]) + \n",
    "                 (coef3 * X_train[:,2]) + (coef4 * X_train[:,3]) + \n",
    "                 (coef5 * X_train[:,4]) + (coef6 * X_train[:,5]) + \n",
    "                 (coef7 * X_train[:,6]) + (coef8 * X_train[:,7]) + \n",
    "                 (coef9 * X_train[:,8]) + (coef10 * X_train[:,9]) + \n",
    "                 (coef11 * X_train[:,10]) + intercept)\n",
    "    #To minimize\n",
    "    cost = sum([data**2 for data in (y_train-y_current)])/n\n",
    "    cost_hist.append(cost)\n",
    "    \n",
    "    #Derivate Calculation\n",
    "    intercept_derivative = -(2/n) * sum(y_train - y_current)\n",
    "    coef1_derivative = -(2/n) * sum(X_train[:,0] * (y_train - y_current))\n",
    "    coef2_derivative = -(2/n) * sum(X_train[:,1] * (y_train - y_current))\n",
    "    coef3_derivative = -(2/n) * sum(X_train[:,2] * (y_train - y_current))\n",
    "    coef4_derivative = -(2/n) * sum(X_train[:,3] * (y_train - y_current))\n",
    "    coef5_derivative = -(2/n) * sum(X_train[:,4] * (y_train - y_current))\n",
    "    coef6_derivative = -(2/n) * sum(X_train[:,5] * (y_train - y_current))\n",
    "    coef7_derivative = -(2/n) * sum(X_train[:,6] * (y_train - y_current))\n",
    "    coef8_derivative = -(2/n) * sum(X_train[:,7] * (y_train - y_current))\n",
    "    coef9_derivative = -(2/n) * sum(X_train[:,8] * (y_train - y_current))\n",
    "    coef10_derivative = -(2/n) * sum(X_train[:,9] * (y_train - y_current))\n",
    "    coef11_derivative = -(2/n) * sum(X_train[:,10] * (y_train - y_current))\n",
    "    \n",
    "    #Fitting derivative into main equation to update coefficients\n",
    "    intercept = intercept - (learning_rate * intercept_derivative)\n",
    "    coef1 = coef1 - (learning_rate * coef1_derivative)\n",
    "    coef2 = coef2 - (learning_rate * coef2_derivative)\n",
    "    coef3 = coef3 - (learning_rate * coef3_derivative)\n",
    "    coef4 = coef4 - (learning_rate * coef4_derivative)\n",
    "    coef5 = coef5 - (learning_rate * coef5_derivative)\n",
    "    coef6 = coef6 - (learning_rate * coef6_derivative)\n",
    "    coef7 = coef7 - (learning_rate * coef7_derivative)\n",
    "    coef8 = coef8 - (learning_rate * coef8_derivative)\n",
    "    coef9 = coef9 - (learning_rate * coef9_derivative)\n",
    "    coef10 = coef10 - (learning_rate * coef10_derivative)\n",
    "    coef11 = coef11 - (learning_rate * coef11_derivative)\n",
    "    \n",
    "print('Cost:          ',cost,'\\nIntercept:     ',intercept,'\\nCoefficient 1: ',coef1,'\\nCoefficient 2: ',coef2,'\\nCoefficient 3: ',coef3,\n",
    "      '\\nCoefficient 4: ',coef4,'\\nCoefficient 5: ',coef5,'\\nCoefficient 6: ',coef6,'\\nCoefficient 7:',coef7,\n",
    "      '\\nCoefficient 8: ',coef8,'\\nCoefficient 9: ',coef9,'\\nCoefficient 10:',coef10,'\\nCoefficient 11:',coef11)"
   ]
  },
  {
   "cell_type": "code",
   "execution_count": 10,
   "metadata": {},
   "outputs": [
    {
     "data": {
      "image/png": "[encoded data removed]",
      "text/plain": [
       "<Figure size 432x288 with 1 Axes>"
      ]
     },
     "metadata": {
      "needs_background": "light"
     },
     "output_type": "display_data"
    }
   ],
   "source": [
    "#Plotting the cost function\n",
    "plt.plot(cost_hist);"
   ]
  },
  {
   "cell_type": "code",
   "execution_count": 11,
   "metadata": {},
   "outputs": [],
   "source": [
    "#Calculating the predicted values\n",
    "predicted_values = []\n",
    "for i in range(0,399):\n",
    "    y_pred = ((coef1 * X_test[i,0]) + (coef2 * X_test[i,1]) + \n",
    "              (coef3 * X_test[i,2]) + (coef4 * X_test[i,3]) + \n",
    "              (coef5 * X_test[i,4]) + (coef6 * X_test[i,5]) + \n",
    "              (coef7 * X_test[i,6]) + (coef8 * X_test[i,7]) + \n",
    "              (coef9 * X_test[i,8]) + (coef10 * X_test[i,9]) + \n",
    "              (coef11 * X_test[i,10]) + intercept)\n",
    "    predicted_values.append(y_pred)"
   ]
  },
  {
   "cell_type": "markdown",
   "metadata": {},
   "source": [
    "### \\begin{align}\n",
    "J(\\theta) = \\frac{1}{n} \\sum \\limits _{i=1} ^{n} (\\hat{y}_i - y_i)^{2}\n",
    "\\end{align}\n",
    "\n",
    "\n",
    "#### Where n is the sample size, y hat is the predicted value and y is the test value. J(θ) is actually the cost function and is also called mean squared error. Minimizing the cost function to predict accurately is the principle behind Linear Regression."
   ]
  },
  {
   "cell_type": "code",
   "execution_count": 12,
   "metadata": {},
   "outputs": [
    {
     "name": "stdout",
     "output_type": "stream",
     "text": [
      "0.5396043418146855\n"
     ]
    }
   ],
   "source": [
    "#Now to calculate the mean squared error\n",
    "Mean_Squared_Error = (sum((predicted_values-y_test)**2)/399)\n",
    "print(Mean_Squared_Error)"
   ]
  }
 ],
 "metadata": {
  "kernelspec": {
   "display_name": "Python 3",
   "language": "python",
   "name": "python3"
  },
  "language_info": {
   "codemirror_mode": {
    "name": "ipython",
    "version": 3
   },
   "file_extension": ".py",
   "mimetype": "text/x-python",
   "name": "python",
   "nbconvert_exporter": "python",
   "pygments_lexer": "ipython3",
   "version": "3.7.3"
  }
 },
 "nbformat": 4,
 "nbformat_minor": 2
}
